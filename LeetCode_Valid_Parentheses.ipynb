{
 "cells": [
  {
   "cell_type": "markdown",
   "id": "96b795d2",
   "metadata": {},
   "source": [
    "# Valid Parentheses"
   ]
  },
  {
   "cell_type": "markdown",
   "id": "b2e18f6f",
   "metadata": {},
   "source": [
    "Given a string s containing just the characters '(', ')', '{', '}', '[' and ']', determine if the input string is valid.\n",
    "\n",
    "An input string is valid if:\n",
    "\n",
    "Open brackets must be closed by the same type of brackets.\n",
    "Open brackets must be closed in the correct order."
   ]
  },
  {
   "cell_type": "markdown",
   "id": "26889a04",
   "metadata": {},
   "source": [
    "<h3> Solution"
   ]
  },
  {
   "cell_type": "code",
   "execution_count": 1,
   "id": "5f150bb6",
   "metadata": {},
   "outputs": [],
   "source": [
    "def isValid(s) -> bool:\n",
    "    \n",
    "#     if len(s) < 1:\n",
    "#         return False\n",
    "    \n",
    "    while \"()\" in s or \"[]\" in s or \"{}\" in s:\n",
    "        s = s.replace(\"()\",\"\").replace(\"[]\",\"\").replace(\"{}\",\"\")\n",
    "        \n",
    "    if s == \"\":\n",
    "        return True\n",
    "    else:\n",
    "        return False\n",
    "    "
   ]
  },
  {
   "cell_type": "markdown",
   "id": "007a19fe",
   "metadata": {},
   "source": [
    "<h3>Test"
   ]
  },
  {
   "cell_type": "code",
   "execution_count": 2,
   "id": "c1c1c16d",
   "metadata": {},
   "outputs": [
    {
     "data": {
      "text/plain": [
       "True"
      ]
     },
     "execution_count": 2,
     "metadata": {},
     "output_type": "execute_result"
    }
   ],
   "source": [
    "s = \"()[]{}\"\n",
    "isValid(s) "
   ]
  },
  {
   "cell_type": "code",
   "execution_count": 3,
   "id": "ac2acfa5",
   "metadata": {},
   "outputs": [
    {
     "data": {
      "text/plain": [
       "False"
      ]
     },
     "execution_count": 3,
     "metadata": {},
     "output_type": "execute_result"
    }
   ],
   "source": [
    "s = \"([)]\"\n",
    "isValid(s) "
   ]
  },
  {
   "cell_type": "code",
   "execution_count": 4,
   "id": "84dc6da1",
   "metadata": {},
   "outputs": [
    {
     "data": {
      "text/plain": [
       "True"
      ]
     },
     "execution_count": 4,
     "metadata": {},
     "output_type": "execute_result"
    }
   ],
   "source": [
    "s = \"{[()]}\"\n",
    "isValid(s) "
   ]
  },
  {
   "cell_type": "code",
   "execution_count": 5,
   "id": "b7c024bc",
   "metadata": {},
   "outputs": [
    {
     "data": {
      "text/plain": [
       "False"
      ]
     },
     "execution_count": 5,
     "metadata": {},
     "output_type": "execute_result"
    }
   ],
   "source": [
    "s = \"{}())(\"\n",
    "isValid(s) "
   ]
  },
  {
   "cell_type": "code",
   "execution_count": 6,
   "id": "436340a9",
   "metadata": {},
   "outputs": [
    {
     "data": {
      "text/plain": [
       "False"
      ]
     },
     "execution_count": 6,
     "metadata": {},
     "output_type": "execute_result"
    }
   ],
   "source": [
    "s = \"[()\"\n",
    "isValid(s) "
   ]
  },
  {
   "cell_type": "code",
   "execution_count": 9,
   "id": "2a4483d8",
   "metadata": {},
   "outputs": [
    {
     "data": {
      "text/plain": [
       "True"
      ]
     },
     "execution_count": 9,
     "metadata": {},
     "output_type": "execute_result"
    }
   ],
   "source": [
    "s = \"()\"\n",
    "isValid(s)"
   ]
  },
  {
   "cell_type": "code",
   "execution_count": 10,
   "id": "3f4518a8",
   "metadata": {},
   "outputs": [
    {
     "data": {
      "text/plain": [
       "False"
      ]
     },
     "execution_count": 10,
     "metadata": {},
     "output_type": "execute_result"
    }
   ],
   "source": [
    "s = \"({)}\"\n",
    "isValid(s)"
   ]
  }
 ],
 "metadata": {
  "kernelspec": {
   "display_name": "Python 3",
   "language": "python",
   "name": "python3"
  },
  "language_info": {
   "codemirror_mode": {
    "name": "ipython",
    "version": 3
   },
   "file_extension": ".py",
   "mimetype": "text/x-python",
   "name": "python",
   "nbconvert_exporter": "python",
   "pygments_lexer": "ipython3",
   "version": "3.8.8"
  }
 },
 "nbformat": 4,
 "nbformat_minor": 5
}
