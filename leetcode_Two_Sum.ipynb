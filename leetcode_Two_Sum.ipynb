{
 "cells": [
  {
   "cell_type": "markdown",
   "id": "8e76ca9a",
   "metadata": {},
   "source": [
    "# Two Sum"
   ]
  },
  {
   "cell_type": "markdown",
   "id": "fcee206f",
   "metadata": {},
   "source": [
    "Given an array of integers nums and an integer target, return indices of the two numbers such that they add up to target.|"
   ]
  },
  {
   "cell_type": "markdown",
   "id": "272412d1",
   "metadata": {},
   "source": [
    "<h3>Solution"
   ]
  },
  {
   "cell_type": "code",
   "execution_count": 4,
   "id": "8f06aff7",
   "metadata": {},
   "outputs": [],
   "source": [
    "def twoSum(nums,target):\n",
    "    for i in range(len(nums)):\n",
    "        for j in range(i+1,len(nums)):\n",
    "            if nums[i] + nums[j] == target:\n",
    "                 return[i,j]"
   ]
  },
  {
   "cell_type": "markdown",
   "id": "cf90c427",
   "metadata": {},
   "source": [
    "<h3>Test"
   ]
  },
  {
   "cell_type": "code",
   "execution_count": 5,
   "id": "583fd54f",
   "metadata": {},
   "outputs": [
    {
     "name": "stdout",
     "output_type": "stream",
     "text": [
      "[0, 1]\n"
     ]
    }
   ],
   "source": [
    "print(twoSum([2,7,11,15],9))"
   ]
  },
  {
   "cell_type": "code",
   "execution_count": 6,
   "id": "936775b2",
   "metadata": {},
   "outputs": [
    {
     "name": "stdout",
     "output_type": "stream",
     "text": [
      "[1, 2]\n"
     ]
    }
   ],
   "source": [
    "print(twoSum( [3,2,4],6))"
   ]
  },
  {
   "cell_type": "code",
   "execution_count": 7,
   "id": "bc7a08f3",
   "metadata": {},
   "outputs": [
    {
     "name": "stdout",
     "output_type": "stream",
     "text": [
      "[0, 1]\n"
     ]
    }
   ],
   "source": [
    "print(twoSum( [3,3],6))"
   ]
  }
 ],
 "metadata": {
  "kernelspec": {
   "display_name": "Python 3",
   "language": "python",
   "name": "python3"
  },
  "language_info": {
   "codemirror_mode": {
    "name": "ipython",
    "version": 3
   },
   "file_extension": ".py",
   "mimetype": "text/x-python",
   "name": "python",
   "nbconvert_exporter": "python",
   "pygments_lexer": "ipython3",
   "version": "3.8.8"
  }
 },
 "nbformat": 4,
 "nbformat_minor": 5
}
