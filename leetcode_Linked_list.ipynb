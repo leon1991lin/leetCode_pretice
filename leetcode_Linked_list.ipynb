{
 "cells": [
  {
   "cell_type": "markdown",
   "id": "865f73b7",
   "metadata": {},
   "source": [
    "<h2> Linked list(連結串列)</h2>\n",
    "\n",
    "<h4>是一種常見的資料結構，其使用node(節點)來記錄、表示、儲存資料(data)，並利用每個node中的pointer指向下一個node，藉此將多個node串連起來，形成Linked list，並以None來代表Linked list的終點 \n",
    "\n",
    "# Definition for singly-linked list.\n",
    "# class ListNode:\n",
    "#     def __init__(self, val=0, next=None):\n",
    "#         self.val = val\n",
    "#         self.next = next </h4>"
   ]
  },
  {
   "cell_type": "code",
   "execution_count": 39,
   "id": "3b560e23",
   "metadata": {},
   "outputs": [],
   "source": [
    "#解法 #1\n",
    "def mergeTwoLists(l1: ListNode, l2: ListNode) -> ListNode:\n",
    "\tprehead = cur = ListNode()\n",
    "\n",
    "\twhile l1 or l2:\n",
    "\t\tif l1 and (not l2 or l2 and l2.val > l1.val):\n",
    "\t\t\tcur.next = cur = l1\n",
    "\t\t\tl1 = l1.next\n",
    "\t\telse:\n",
    "\t\t\tcur.next = cur = l2\n",
    "\t\t\tl2 = l2.next\n",
    "\n",
    "\treturn prehead.next"
   ]
  },
  {
   "cell_type": "code",
   "execution_count": null,
   "id": "dbc53754",
   "metadata": {},
   "outputs": [],
   "source": [
    "#解法 #2\n",
    "def mergeTwoLists1(self, l1, l2):\n",
    "    dummy = cur = ListNode(0)\n",
    "    while l1 and l2:\n",
    "        if l1.val < l2.val:\n",
    "            cur.next = l1\n",
    "            l1 = l1.next\n",
    "        else:\n",
    "            cur.next = l2\n",
    "            l2 = l2.next\n",
    "        cur = cur.next\n",
    "    cur.next = l1 or l2\n",
    "    return dummy.next"
   ]
  },
  {
   "cell_type": "code",
   "execution_count": null,
   "id": "b198fece",
   "metadata": {},
   "outputs": [],
   "source": [
    "l1 = [1,2]\n",
    "l2 = [1,3,4]\n",
    "print(mergeTwoLists(l1, l2))"
   ]
  }
 ],
 "metadata": {
  "kernelspec": {
   "display_name": "Python 3",
   "language": "python",
   "name": "python3"
  },
  "language_info": {
   "codemirror_mode": {
    "name": "ipython",
    "version": 3
   },
   "file_extension": ".py",
   "mimetype": "text/x-python",
   "name": "python",
   "nbconvert_exporter": "python",
   "pygments_lexer": "ipython3",
   "version": "3.8.8"
  }
 },
 "nbformat": 4,
 "nbformat_minor": 5
}
