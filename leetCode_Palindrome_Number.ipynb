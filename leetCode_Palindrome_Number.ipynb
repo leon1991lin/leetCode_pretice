{
 "cells": [
  {
   "cell_type": "markdown",
   "id": "daf73095",
   "metadata": {},
   "source": [
    "# Palindrome Number"
   ]
  },
  {
   "cell_type": "markdown",
   "id": "90594599",
   "metadata": {},
   "source": [
    "Given an integer x, return true if x is palindrome integer.\n",
    "\n",
    "An integer is a palindrome when it reads the same backward as forward. For example, 121 is palindrome while 123 is not."
   ]
  },
  {
   "cell_type": "markdown",
   "id": "b21733e9",
   "metadata": {},
   "source": [
    "<h3>Solution"
   ]
  },
  {
   "cell_type": "code",
   "execution_count": 1,
   "id": "9537b7f9",
   "metadata": {},
   "outputs": [],
   "source": [
    "def isPalindrome(x: int) -> bool:\n",
    "    tmp = [i for i in str(x)]\n",
    "    for e in range(len(tmp)):\n",
    "        if tmp[e] != tmp[-(1+e)]:\n",
    "            return False\n",
    "    return True"
   ]
  },
  {
   "cell_type": "markdown",
   "id": "75919e41",
   "metadata": {},
   "source": [
    "<h3>Test"
   ]
  },
  {
   "cell_type": "code",
   "execution_count": 2,
   "id": "5dbb0676",
   "metadata": {},
   "outputs": [
    {
     "data": {
      "text/plain": [
       "True"
      ]
     },
     "execution_count": 2,
     "metadata": {},
     "output_type": "execute_result"
    }
   ],
   "source": [
    "isPalindrome(12321)"
   ]
  },
  {
   "cell_type": "code",
   "execution_count": 3,
   "id": "54744cf5",
   "metadata": {},
   "outputs": [
    {
     "data": {
      "text/plain": [
       "False"
      ]
     },
     "execution_count": 3,
     "metadata": {},
     "output_type": "execute_result"
    }
   ],
   "source": [
    "isPalindrome(12331)"
   ]
  }
 ],
 "metadata": {
  "kernelspec": {
   "display_name": "Python 3",
   "language": "python",
   "name": "python3"
  },
  "language_info": {
   "codemirror_mode": {
    "name": "ipython",
    "version": 3
   },
   "file_extension": ".py",
   "mimetype": "text/x-python",
   "name": "python",
   "nbconvert_exporter": "python",
   "pygments_lexer": "ipython3",
   "version": "3.8.8"
  }
 },
 "nbformat": 4,
 "nbformat_minor": 5
}
