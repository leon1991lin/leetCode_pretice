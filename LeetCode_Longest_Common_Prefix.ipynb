{
 "cells": [
  {
   "cell_type": "markdown",
   "id": "8f2f2c15",
   "metadata": {},
   "source": [
    "#  Longest Common Prefix"
   ]
  },
  {
   "cell_type": "markdown",
   "id": "87b087ba",
   "metadata": {},
   "source": [
    "Write a function to find the longest common prefix string amongst an array of strings.\n",
    "\n",
    "If there is no common prefix, return an empty string \"\"."
   ]
  },
  {
   "cell_type": "markdown",
   "id": "6b279358",
   "metadata": {},
   "source": [
    "<h3> Solution"
   ]
  },
  {
   "cell_type": "code",
   "execution_count": 161,
   "id": "2d46d3a6",
   "metadata": {},
   "outputs": [],
   "source": [
    "def longestCommonPrefix(strs):\n",
    "    prefix = strs[0]\n",
    "    i = 1\n",
    "    while i <= len(prefix):\n",
    "        for item in strs:\n",
    "            if i > len(item) or prefix[0:i] != item[0:i]:\n",
    "                return prefix[0:i-1]\n",
    "        i += 1\n",
    "    return min(strs)"
   ]
  },
  {
   "cell_type": "markdown",
   "id": "f263aac5",
   "metadata": {},
   "source": [
    "<h3>Test"
   ]
  },
  {
   "cell_type": "code",
   "execution_count": 162,
   "id": "b0425022",
   "metadata": {},
   "outputs": [
    {
     "name": "stdout",
     "output_type": "stream",
     "text": [
      "fl\n"
     ]
    }
   ],
   "source": [
    "strs = [\"flower\",\"flow\",\"flight\"]\n",
    "print(longestCommonPrefix(strs))"
   ]
  },
  {
   "cell_type": "code",
   "execution_count": 163,
   "id": "cbb15fb0",
   "metadata": {},
   "outputs": [
    {
     "name": "stdout",
     "output_type": "stream",
     "text": [
      "\n"
     ]
    }
   ],
   "source": [
    "strs = [\"dog\",\"racecar\",\"car\"]\n",
    "print(longestCommonPrefix(strs))"
   ]
  },
  {
   "cell_type": "code",
   "execution_count": 164,
   "id": "94aedaa9",
   "metadata": {},
   "outputs": [
    {
     "name": "stdout",
     "output_type": "stream",
     "text": [
      "a\n"
     ]
    }
   ],
   "source": [
    "strs = [\"ab\",\"a\"]\n",
    "print(longestCommonPrefix(strs))"
   ]
  },
  {
   "cell_type": "code",
   "execution_count": 165,
   "id": "3e719282",
   "metadata": {},
   "outputs": [
    {
     "name": "stdout",
     "output_type": "stream",
     "text": [
      "\n"
     ]
    }
   ],
   "source": [
    "strs = [\"\",\"\"]\n",
    "print(longestCommonPrefix(strs))"
   ]
  }
 ],
 "metadata": {
  "kernelspec": {
   "display_name": "Python 3",
   "language": "python",
   "name": "python3"
  },
  "language_info": {
   "codemirror_mode": {
    "name": "ipython",
    "version": 3
   },
   "file_extension": ".py",
   "mimetype": "text/x-python",
   "name": "python",
   "nbconvert_exporter": "python",
   "pygments_lexer": "ipython3",
   "version": "3.8.8"
  }
 },
 "nbformat": 4,
 "nbformat_minor": 5
}
