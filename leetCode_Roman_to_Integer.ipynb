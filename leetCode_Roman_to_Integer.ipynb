{
 "cells": [
  {
   "cell_type": "markdown",
   "id": "3130386c",
   "metadata": {},
   "source": [
    "# Roman to Integer"
   ]
  },
  {
   "cell_type": "markdown",
   "id": "3a88dea7",
   "metadata": {},
   "source": [
    "Roman numerals are represented by seven different symbols: I, V, X, L, C, D and M."
   ]
  },
  {
   "cell_type": "markdown",
   "id": "036a0684",
   "metadata": {},
   "source": [
    "<h3>Solution"
   ]
  },
  {
   "cell_type": "code",
   "execution_count": 95,
   "id": "6a173539",
   "metadata": {},
   "outputs": [],
   "source": [
    "def romanToInt(s: str) -> int:\n",
    "    dict = { \"I\":1,\"V\":5,\"X\":10,\"L\":50,\"C\":100,\"D\":500,\"M\":1000}\n",
    "    tmp = [i for i in s]\n",
    "    ans = 0\n",
    "    for i in range(len(s)):\n",
    "        t = tmp.pop()\n",
    "        if t == \"I\":\n",
    "            ans += dict[\"I\"]\n",
    "\n",
    "        elif t == \"V\":\n",
    "            ans += 5\n",
    "            dict[\"I\"] = -1\n",
    "                \n",
    "        elif t == \"X\":\n",
    "            ans += dict[\"X\"]\n",
    "            dict[\"I\"] = -1\n",
    "            \n",
    "        elif t == \"L\":\n",
    "            ans += 50\n",
    "            dict[\"X\"] = -10\n",
    "                \n",
    "        elif t == \"C\":\n",
    "            ans += dict[\"C\"]\n",
    "            dict[\"X\"] = -10\n",
    "                \n",
    "        elif t == \"D\":\n",
    "            ans += 500\n",
    "            dict[\"C\"] = -100\n",
    "            \n",
    "        elif t == \"M\":\n",
    "            ans += 1000\n",
    "            dict[\"C\"] = -100        \n",
    "\n",
    "    return ans"
   ]
  },
  {
   "cell_type": "markdown",
   "id": "9a50a82c",
   "metadata": {},
   "source": [
    "<h3>Test"
   ]
  },
  {
   "cell_type": "code",
   "execution_count": 96,
   "id": "ac185781",
   "metadata": {},
   "outputs": [
    {
     "data": {
      "text/plain": [
       "9"
      ]
     },
     "execution_count": 96,
     "metadata": {},
     "output_type": "execute_result"
    }
   ],
   "source": [
    "romanToInt(\"IX\")"
   ]
  },
  {
   "cell_type": "code",
   "execution_count": 97,
   "id": "2a5a9d69",
   "metadata": {},
   "outputs": [
    {
     "data": {
      "text/plain": [
       "6"
      ]
     },
     "execution_count": 97,
     "metadata": {},
     "output_type": "execute_result"
    }
   ],
   "source": [
    "romanToInt(\"VI\")"
   ]
  },
  {
   "cell_type": "code",
   "execution_count": 98,
   "id": "5d4638aa",
   "metadata": {},
   "outputs": [
    {
     "data": {
      "text/plain": [
       "1994"
      ]
     },
     "execution_count": 98,
     "metadata": {},
     "output_type": "execute_result"
    }
   ],
   "source": [
    "romanToInt(\"MCMXCIV\")"
   ]
  }
 ],
 "metadata": {
  "kernelspec": {
   "display_name": "Python 3",
   "language": "python",
   "name": "python3"
  },
  "language_info": {
   "codemirror_mode": {
    "name": "ipython",
    "version": 3
   },
   "file_extension": ".py",
   "mimetype": "text/x-python",
   "name": "python",
   "nbconvert_exporter": "python",
   "pygments_lexer": "ipython3",
   "version": "3.8.8"
  }
 },
 "nbformat": 4,
 "nbformat_minor": 5
}
