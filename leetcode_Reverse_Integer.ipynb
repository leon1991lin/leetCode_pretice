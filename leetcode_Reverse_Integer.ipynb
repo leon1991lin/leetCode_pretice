{
 "cells": [
  {
   "cell_type": "markdown",
   "id": "33cbf1ef",
   "metadata": {},
   "source": [
    "# Reverse Integer"
   ]
  },
  {
   "cell_type": "markdown",
   "id": "c0f585c6",
   "metadata": {},
   "source": [
    "Given a signed 32-bit integer x, return x with its digits reversed. If reversing x causes the value to go outside the signed 32-bit integer range [-231, 231 - 1], then return 0."
   ]
  },
  {
   "cell_type": "markdown",
   "id": "83418a24",
   "metadata": {},
   "source": [
    "<h3>Solution"
   ]
  },
  {
   "cell_type": "code",
   "execution_count": 6,
   "id": "68140e0e",
   "metadata": {},
   "outputs": [],
   "source": [
    "def reverse(x) -> int:\n",
    "    tmp = [i for i in str(x)]\n",
    "    if tmp[0] == \"-\":\n",
    "        tmp1 = tmp[1:]\n",
    "        tmp1.reverse()\n",
    "        ans = int(tmp[0] + \"\".join(tmp1))\n",
    "        if ans < (-2**31):\n",
    "            return 0\n",
    "        else:\n",
    "            return ans\n",
    "    else:\n",
    "        tmp.reverse()\n",
    "        ans = int(\"\".join(tmp))\n",
    "        if ans > ((2**31)-1):\n",
    "            return 0\n",
    "        else:\n",
    "            return ans"
   ]
  },
  {
   "cell_type": "markdown",
   "id": "c0fb271f",
   "metadata": {},
   "source": [
    "<h3>Test"
   ]
  },
  {
   "cell_type": "code",
   "execution_count": 7,
   "id": "a5d22a0b",
   "metadata": {},
   "outputs": [
    {
     "data": {
      "text/plain": [
       "321"
      ]
     },
     "execution_count": 7,
     "metadata": {},
     "output_type": "execute_result"
    }
   ],
   "source": [
    "reverse(123)"
   ]
  },
  {
   "cell_type": "code",
   "execution_count": 8,
   "id": "3ceb9739",
   "metadata": {},
   "outputs": [
    {
     "data": {
      "text/plain": [
       "0"
      ]
     },
     "execution_count": 8,
     "metadata": {},
     "output_type": "execute_result"
    }
   ],
   "source": [
    "reverse(123456522789)"
   ]
  }
 ],
 "metadata": {
  "kernelspec": {
   "display_name": "Python 3",
   "language": "python",
   "name": "python3"
  },
  "language_info": {
   "codemirror_mode": {
    "name": "ipython",
    "version": 3
   },
   "file_extension": ".py",
   "mimetype": "text/x-python",
   "name": "python",
   "nbconvert_exporter": "python",
   "pygments_lexer": "ipython3",
   "version": "3.8.8"
  }
 },
 "nbformat": 4,
 "nbformat_minor": 5
}
